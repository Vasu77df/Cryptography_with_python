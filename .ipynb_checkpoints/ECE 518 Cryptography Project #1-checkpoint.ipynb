{
 "cells": [
  {
   "cell_type": "markdown",
   "metadata": {},
   "source": [
    "# ECE 443/518 Fall 2019 - Project 1\n",
    "# Cryptographic Hash Functions and Ciphers\n"
   ]
  },
  {
   "cell_type": "markdown",
   "metadata": {},
   "source": [
    "## Cryptographic Hash Functions"
   ]
  },
  {
   "cell_type": "markdown",
   "metadata": {},
   "source": [
    "### SHA-256"
   ]
  },
  {
   "cell_type": "code",
   "execution_count": 3,
   "metadata": {},
   "outputs": [
    {
     "name": "stdout",
     "output_type": "stream",
     "text": [
      "Enter Plaintext here:Hello World!\n",
      "Plaintext entered:Hello World!\n",
      "Expected Messsage Digest: \n",
      " 7f83b1657ff1fc53b92dc18148a1d65dfc2d4b1fa3d677284addd200126d9069\n",
      "Computed Message digest after SHA256 hashing:\n",
      " 7f83b1657ff1fc53b92dc18148a1d65dfc2d4b1fa3d677284addd200126d9069 \n"
     ]
    }
   ],
   "source": [
    "from cryptography.hazmat.backends import default_backend # importing backend for the hashing algorithms\n",
    "from cryptography.hazmat.primitives import hashes # importing hashing functions\n",
    "\n",
    "\n",
    "def SHA_256(message):\n",
    "    digest = hashes.Hash(hashes.SHA256(), backend=default_backend()) # Initializing the hashing function to be used \n",
    "    digest.update(message) # Hashing of the message is done\n",
    "    msg_digest = digest.finalize() # Finalizing the current context and returning the digest in bytes\n",
    "    return msg_digest\n",
    "\n",
    "if __name__ == \"__main__\":\n",
    "    plaintext = input(\"Enter Plaintext here:\") # Enter the plaintext to be hashed \n",
    "    byte_plaintext = plaintext.encode() # Converting the string datatype to bytes datatype for hashing \n",
    "    digest = SHA_256(byte_plaintext) \n",
    "    digest_hex = digest.hex() # Converting the digest returned in bytes format to hexadecimal format \n",
    "    print (\"Plaintext entered:{}\".format(plaintext))\n",
    "    print(\"Expected Messsage Digest: \\n 7f83b1657ff1fc53b92dc18148a1d65dfc2d4b1fa3d677284addd200126d9069\")\n",
    "    print(\"Computed Message digest after SHA256 hashing:\\n {} \".format(digest_hex))\n",
    "    "
   ]
  },
  {
   "cell_type": "markdown",
   "metadata": {},
   "source": [
    "### Performance Evaluation of SHA 256"
   ]
  },
  {
   "cell_type": "code",
   "execution_count": 11,
   "metadata": {},
   "outputs": [
    {
     "name": "stdout",
     "output_type": "stream",
     "text": [
      "SHA 256 of 256MB 0x00\n",
      "Message digest after SHA256 hashing is: \n",
      "f9f426e77227823de210deeeb3c5f258532937b4dfd40af797e572f44a3a9b9e \n",
      "Average Time taken for Hashing the plaintext: 0.751880889999984 seconds\n",
      "The performance of the hashing function is 340.4794607826852 MB/s\n"
     ]
    }
   ],
   "source": [
    "from cryptography.hazmat.backends import default_backend\n",
    "from cryptography.hazmat.primitives import hashes\n",
    "import timeit\n",
    "\n",
    "setup_code = '''\n",
    "from cryptography.hazmat.backends import default_backend\n",
    "from cryptography.hazmat.primitives import hashes\n",
    "'''\n",
    "\n",
    "evaluation_code = '''\n",
    "digest = hashes.Hash(hashes.SHA256(), backend=default_backend())\n",
    "digest.update(bytes(256*1000*1000))\n",
    "digest.finalize()\n",
    "'''\n",
    "\n",
    "def SHA_256(message):\n",
    "    digest = hashes.Hash(hashes.SHA256(), backend=default_backend()) # Initializing the hashing function to be used \n",
    "    digest.update(message) # Hashing of the message is done\n",
    "    msg_digest = digest.finalize() # Finalizing the current context and returning the digest in bytes\n",
    "    return msg_digest\n",
    "\n",
    "if __name__ == \"__main__\":\n",
    "    byte_plaintext = bytes(256*1000*100)\n",
    "    digest = SHA_256(byte_plaintext) \n",
    "    digest_hex = digest.hex() # Converting the digest returned in bytes format to hexadecimal format \n",
    "    print(\"SHA 256 of 256MB 0x00\")\n",
    "    print(\"Message digest after SHA256 hashing is: \\n{} \".format(digest_hex))\n",
    "    total_time = timeit.timeit(setup=setup_code, stmt=evaluation_code, number=10) # running the hash function 10 times and obtaining total time elapsed \n",
    "    execution_time = total_time/10\n",
    "    print(\"Average Time taken for Hashing the plaintext: {} seconds\".format(execution_time))\n",
    "    performance = 256/execution_time\n",
    "    print(\"The performance of the hashing function is {} MB/s\".format(performance))\n"
   ]
  },
  {
   "cell_type": "markdown",
   "metadata": {},
   "source": [
    "### SHA 512"
   ]
  },
  {
   "cell_type": "markdown",
   "metadata": {},
   "source": [
    "#### Source Code and Output:"
   ]
  },
  {
   "cell_type": "code",
   "execution_count": 7,
   "metadata": {},
   "outputs": [
    {
     "name": "stdout",
     "output_type": "stream",
     "text": [
      "Enter Plaintext here:Hello World!\n",
      "Plaintext entered:Hello World!\n",
      "Expected Messsage Digest: \n",
      " 861844d6704e8573fec34d967e20bcfef3d424cf48be04e6dc08f2bd58c729743371015ead891cc3cf1c9d34b49264b510751b1ff9e537937bc46b5d6ff4ecc8\n",
      "Computed Message digest after SHA512 hashing:\n",
      " 861844d6704e8573fec34d967e20bcfef3d424cf48be04e6dc08f2bd58c729743371015ead891cc3cf1c9d34b49264b510751b1ff9e537937bc46b5d6ff4ecc8 \n"
     ]
    }
   ],
   "source": [
    "from cryptography.hazmat.backends import default_backend # importing backend for the hashing algorithms\n",
    "from cryptography.hazmat.primitives import hashes # importing hashing functions\n",
    "\n",
    "\n",
    "def SHA_512(message):\n",
    "    digest = hashes.Hash(hashes.SHA512(), backend=default_backend()) # Initializing the hashing function to be used \n",
    "    digest.update(message) # Hashing of the message is done\n",
    "    msg_digest = digest.finalize() # Finalizing the current context and returning the digest in bytes\n",
    "    return msg_digest\n",
    "\n",
    "if __name__ == \"__main__\":\n",
    "    plaintext = input(\"Enter Plaintext here:\") # Enter the plaintext to be hashed \n",
    "    byte_plaintext = plaintext.encode() # Converting the string datatype to bytes datatype for hashing \n",
    "    digest = SHA_512(byte_plaintext) \n",
    "    digest_hex = digest.hex() # Converting the digest returned in bytes format to hexadecimal format \n",
    "    print (\"Plaintext entered:{}\".format(plaintext))\n",
    "    print(\"Expected Messsage Digest: \\n 861844d6704e8573fec34d967e20bcfef3d424cf48be04e6dc08f2bd58c729743371015ead891cc3cf1c9d34b49264b510751b1ff9e537937bc46b5d6ff4ecc8\")\n",
    "    print(\"Computed Message digest after SHA512 hashing:\\n {} \".format(digest_hex))"
   ]
  },
  {
   "cell_type": "markdown",
   "metadata": {},
   "source": [
    "### Performance Evaluation Of SHA512"
   ]
  },
  {
   "cell_type": "markdown",
   "metadata": {},
   "source": [
    "#### Source Code and Output "
   ]
  },
  {
   "cell_type": "code",
   "execution_count": 9,
   "metadata": {},
   "outputs": [
    {
     "name": "stdout",
     "output_type": "stream",
     "text": [
      "SHA 512 of 256MB 0x00\n",
      "Message digest after SHA512 hashing is: \n",
      "d40f36e95eff70d65a54356fba8f8388043ebd2520f98b14a2c962fec6ae403f06f77a46b40f354822e9901c9616e7714311a10d708fe47867cb29d914cd726e \n",
      "Average Time taken for Hashing the plaintext: 0.561877410000011 seconds\n",
      "The performance of the hashing function is: 455.6153983837773 MB/s\n"
     ]
    }
   ],
   "source": [
    "from cryptography.hazmat.backends import default_backend\n",
    "from cryptography.hazmat.primitives import hashes\n",
    "import timeit\n",
    "\n",
    "setup_code = '''\n",
    "from cryptography.hazmat.backends import default_backend\n",
    "from cryptography.hazmat.primitives import hashes\n",
    "'''\n",
    "\n",
    "evaluation_code = '''\n",
    "digest = hashes.Hash(hashes.SHA512(), backend=default_backend())\n",
    "digest.update(bytes(256*1000*1000))\n",
    "digest.finalize()\n",
    "'''\n",
    "\n",
    "def SHA_512(message):\n",
    "    digest = hashes.Hash(hashes.SHA512(), backend=default_backend()) # Initializing the hashing function to be used \n",
    "    digest.update(message) # Hashing of the message is done\n",
    "    msg_digest = digest.finalize() # Finalizing the current context and returning the digest in bytes\n",
    "    return msg_digest\n",
    "\n",
    "if __name__ == \"__main__\":\n",
    "    byte_plaintext = bytes(256*1000*100)\n",
    "    digest = SHA_512(byte_plaintext) \n",
    "    digest_hex = digest.hex() # Converting the digest returned in bytes format to hexadecimal format \n",
    "    print(\"SHA 512 of 256MB 0x00\")\n",
    "    print(\"Message digest after SHA512 hashing is: \\n{} \".format(digest_hex))\n",
    "    total_time = timeit.timeit(setup=setup_code, stmt=evaluation_code, number=10) # running the hash function 10 times and obtaining total time elapsed \n",
    "    execution_time = total_time/10\n",
    "    print(\"Average Time taken for Hashing the plaintext: {} seconds\".format(execution_time))\n",
    "    performance = 256/execution_time\n",
    "    print(\"The performance of the hashing function is: {} MB/s\".format(performance))"
   ]
  },
  {
   "cell_type": "markdown",
   "metadata": {},
   "source": [
    "## "
   ]
  },
  {
   "cell_type": "code",
   "execution_count": null,
   "metadata": {},
   "outputs": [],
   "source": []
  }
 ],
 "metadata": {
  "kernelspec": {
   "display_name": "Python 3",
   "language": "python",
   "name": "python3"
  },
  "language_info": {
   "codemirror_mode": {
    "name": "ipython",
    "version": 3
   },
   "file_extension": ".py",
   "mimetype": "text/x-python",
   "name": "python",
   "nbconvert_exporter": "python",
   "pygments_lexer": "ipython3",
   "version": "3.7.4"
  }
 },
 "nbformat": 4,
 "nbformat_minor": 2
}
