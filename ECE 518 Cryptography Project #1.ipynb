{
 "cells": [
  {
   "cell_type": "markdown",
   "metadata": {},
   "source": [
    "# ECE 443/518 Fall 2019 - Project 1\n",
    "# Cryptographic Hash Functions and Ciphers\n"
   ]
  },
  {
   "cell_type": "markdown",
   "metadata": {},
   "source": [
    "## Cryptographic Hash Functions"
   ]
  },
  {
   "cell_type": "markdown",
   "metadata": {},
   "source": [
    "### SHA-256 Validation"
   ]
  },
  {
   "cell_type": "code",
   "execution_count": 2,
   "metadata": {},
   "outputs": [
    {
     "name": "stdout",
     "output_type": "stream",
     "text": [
      "Enter Plaintext here:Hello world!\n",
      "Plaintext entered:Hello world!\n",
      "Expected Messsage Digest: \n",
      " c0535e4be2b79ffd93291305436bf889314e4a3faec05ecffcbb7df31ad9e51a\n",
      "Computed Message digest after SHA256 hashing:\n",
      " c0535e4be2b79ffd93291305436bf889314e4a3faec05ecffcbb7df31ad9e51a \n"
     ]
    }
   ],
   "source": [
    "from cryptography.hazmat.backends import default_backend # importing backend for the hashing algorithms\n",
    "from cryptography.hazmat.primitives import hashes # importing hashing functions\n",
    "\n",
    "\n",
    "def SHA_256(message):\n",
    "    digest = hashes.Hash(hashes.SHA256(), backend=default_backend()) # Initializing the hashing function to be used \n",
    "    digest.update(message) # Hashing of the message is done\n",
    "    msg_digest = digest.finalize() # Finalizing the current context and returning the digest in bytes\n",
    "    return msg_digest\n",
    "\n",
    "if __name__ == \"__main__\":\n",
    "    plaintext = input(\"Enter Plaintext here:\") # Enter the plaintext to be hashed \n",
    "    byte_plaintext = plaintext.encode() # Converting the string datatype to bytes datatype for hashing \n",
    "    digest = SHA_256(byte_plaintext) \n",
    "    digest_hex = digest.hex() # Converting the digest returned in bytes format to hexadecimal format \n",
    "    print (\"Plaintext entered:{}\".format(plaintext))\n",
    "    print(\"Expected Messsage Digest: \\n c0535e4be2b79ffd93291305436bf889314e4a3faec05ecffcbb7df31ad9e51a\")\n",
    "    print(\"Computed Message digest after SHA256 hashing:\\n {} \".format(digest_hex))\n",
    "    "
   ]
  },
  {
   "cell_type": "markdown",
   "metadata": {},
   "source": [
    "### Performance Evaluation of SHA 256"
   ]
  },
  {
   "cell_type": "code",
   "execution_count": 1,
   "metadata": {},
   "outputs": [
    {
     "name": "stdout",
     "output_type": "stream",
     "text": [
      "SHA 256 of 256MB 0x00\n",
      "Message digest after SHA256 hashing is: \n",
      "84cb76f21fc59352a3a1f4a33e35842b07b524aa6b7c80a92441a80a41e9646d \n",
      "Average Time taken for Hashing the plaintext: 0.7482836700000007 seconds\n",
      "The performance of the hashing function is 342.11624583495154 MB/s\n"
     ]
    }
   ],
   "source": [
    "from cryptography.hazmat.backends import default_backend\n",
    "from cryptography.hazmat.primitives import hashes\n",
    "import timeit\n",
    "\n",
    "setup_code = '''\n",
    "from cryptography.hazmat.backends import default_backend\n",
    "from cryptography.hazmat.primitives import hashes\n",
    "'''\n",
    "\n",
    "evaluation_code = '''\n",
    "digest = hashes.Hash(hashes.SHA256(), backend=default_backend())\n",
    "digest.update(bytes(256*1000*1000))\n",
    "digest.finalize()\n",
    "'''\n",
    "\n",
    "def SHA_256(message):\n",
    "    digest = hashes.Hash(hashes.SHA256(), backend=default_backend()) # Initializing the hashing function to be used \n",
    "    digest.update(message) # Hashing of the message is done\n",
    "    msg_digest = digest.finalize() # Finalizing the current context and returning the digest in bytes\n",
    "    return msg_digest\n",
    "\n",
    "if __name__ == \"__main__\":\n",
    "    byte_plaintext = bytes(256*1000*1000 - 33) # 256 MB message subract by 33 to remove the bytes header data \n",
    "    digest = SHA_256(byte_plaintext) \n",
    "    digest_hex = digest.hex() # Converting the digest returned in bytes format to hexadecimal format \n",
    "    print(\"SHA 256 of 256MB 0x00\")\n",
    "    print(\"Message digest after SHA256 hashing is: \\n{} \".format(digest_hex))\n",
    "    total_time = timeit.timeit(setup=setup_code, stmt=evaluation_code, number=10) # running the hash function 10 times and obtaining total time elapsed \n",
    "    execution_time = total_time/10\n",
    "    print(\"Average Time taken for Hashing the plaintext: {} seconds\".format(execution_time))\n",
    "    performance = 256/execution_time\n",
    "    print(\"The performance of the hashing function is {} MB/s\".format(performance))\n"
   ]
  },
  {
   "cell_type": "markdown",
   "metadata": {},
   "source": [
    "### SHA 512 Validation"
   ]
  },
  {
   "cell_type": "code",
   "execution_count": 4,
   "metadata": {},
   "outputs": [
    {
     "name": "stdout",
     "output_type": "stream",
     "text": [
      "Enter Plaintext here:Hello world!\n",
      "Plaintext entered:Hello world!\n",
      "Expected Messsage Digest: \n",
      " f6cde2a0f819314cdde55fc227d8d7dae3d28cc556222a0a8ad66d91ccad4aad6094f517a2182360c9aacf6a3dc323162cb6fd8cdffedb0fe038f55e85ffb5b6\n",
      "Computed Message digest after SHA512 hashing:\n",
      " f6cde2a0f819314cdde55fc227d8d7dae3d28cc556222a0a8ad66d91ccad4aad6094f517a2182360c9aacf6a3dc323162cb6fd8cdffedb0fe038f55e85ffb5b6 \n"
     ]
    }
   ],
   "source": [
    "from cryptography.hazmat.backends import default_backend # importing backend for the hashing algorithms\n",
    "from cryptography.hazmat.primitives import hashes # importing hashing functions\n",
    "\n",
    "\n",
    "def SHA_512(message):\n",
    "    digest = hashes.Hash(hashes.SHA512(), backend=default_backend()) # Initializing the hashing function to be used \n",
    "    digest.update(message) # Hashing of the message is done\n",
    "    msg_digest = digest.finalize() # Finalizing the current context and returning the digest in bytes\n",
    "    return msg_digest\n",
    "\n",
    "if __name__ == \"__main__\":\n",
    "    plaintext = input(\"Enter Plaintext here:\") # Enter the plaintext to be hashed \n",
    "    byte_plaintext = plaintext.encode() # Converting the string datatype to bytes datatype for hashing \n",
    "    digest = SHA_512(byte_plaintext) \n",
    "    digest_hex = digest.hex() # Converting the digest returned in bytes format to hexadecimal format \n",
    "    print (\"Plaintext entered:{}\".format(plaintext))\n",
    "    print(\"Expected Messsage Digest: \\n f6cde2a0f819314cdde55fc227d8d7dae3d28cc556222a0a8ad66d91ccad4aad6094f517a2182360c9aacf6a3dc323162cb6fd8cdffedb0fe038f55e85ffb5b6\")\n",
    "    print(\"Computed Message digest after SHA512 hashing:\\n {} \".format(digest_hex))"
   ]
  },
  {
   "cell_type": "markdown",
   "metadata": {},
   "source": [
    "### Performance Evaluation Of SHA512"
   ]
  },
  {
   "cell_type": "code",
   "execution_count": 2,
   "metadata": {},
   "outputs": [
    {
     "name": "stdout",
     "output_type": "stream",
     "text": [
      "SHA 512 of 256MB 0x00\n",
      "Message digest after SHA512 hashing is: \n",
      "4718791f9cbb4c07f4dee5b43dee1f1918ba5263f75dcfd084926011c8d093565a9b88209d1188ad9573884d492a236e5e4dfb9d3249401342d2774d7e80ff11 \n",
      "Average Time taken for Hashing the plaintext: 0.5674813999999998 seconds\n",
      "The performance of the hashing function is: 451.1161070653595 MB/s\n"
     ]
    }
   ],
   "source": [
    "from cryptography.hazmat.backends import default_backend\n",
    "from cryptography.hazmat.primitives import hashes\n",
    "import timeit\n",
    "\n",
    "setup_code = '''\n",
    "from cryptography.hazmat.backends import default_backend\n",
    "from cryptography.hazmat.primitives import hashes\n",
    "'''\n",
    "\n",
    "evaluation_code = '''\n",
    "digest = hashes.Hash(hashes.SHA512(), backend=default_backend())\n",
    "digest.update(bytes(256*1000*1000))\n",
    "digest.finalize()\n",
    "'''\n",
    "\n",
    "def SHA_512(message):\n",
    "    digest = hashes.Hash(hashes.SHA512(), backend=default_backend()) # Initializing the hashing function to be used \n",
    "    digest.update(message) # Hashing of the message is done\n",
    "    msg_digest = digest.finalize() # Finalizing the current context and returning the digest in bytes\n",
    "    return msg_digest\n",
    "\n",
    "if __name__ == \"__main__\":\n",
    "    byte_plaintext = bytes(256*1000*1000 - 33) # 256 MB message subract by 33 to remove the bytes header data\n",
    "    digest = SHA_512(byte_plaintext) \n",
    "    digest_hex = digest.hex() # Converting the digest returned in bytes format to hexadecimal format \n",
    "    print(\"SHA 512 of 256MB 0x00\")\n",
    "    print(\"Message digest after SHA512 hashing is: \\n{} \".format(digest_hex))\n",
    "    total_time = timeit.timeit(setup=setup_code, stmt=evaluation_code, number=10) # running the hash function 10 times and obtaining total time elapsed \n",
    "    execution_time = total_time/10\n",
    "    print(\"Average Time taken for Hashing the plaintext: {} seconds\".format(execution_time))\n",
    "    performance = 256/execution_time\n",
    "    print(\"The performance of the hashing function is: {} MB/s\".format(performance))"
   ]
  },
  {
   "cell_type": "markdown",
   "metadata": {},
   "source": [
    "## Ciphers "
   ]
  },
  {
   "cell_type": "markdown",
   "metadata": {},
   "source": [
    "## AES in GCM mode Validation"
   ]
  },
  {
   "cell_type": "code",
   "execution_count": 2,
   "metadata": {},
   "outputs": [
    {
     "name": "stdout",
     "output_type": "stream",
     "text": [
      "AES in GCM mode of plaintext: Hello World!\n",
      "Authenticated Associated data: Data that is authenticated but not encrypted\n",
      "Initialization Vector: df5032b3714f21a672856cf5\n",
      "MAC tag: f619ae0e71051fea50469de1c7c506f0\n",
      "Ciphertext: 84e36186a34fdb53dfb46656\n",
      "Decrypted message: Hello World!\n"
     ]
    }
   ],
   "source": [
    "import os\n",
    "from cryptography.hazmat.backends import default_backend\n",
    "from cryptography.hazmat.primitives.ciphers import (\n",
    "    Cipher, algorithms, modes\n",
    ")\n",
    "\n",
    "def encrypt(key, pt, aad):\n",
    "    '''AES in GCM Mode encrytion function\n",
    "        parameters:\n",
    "            key: 128 bit random key\n",
    "            pt: plaintext for encryption \n",
    "                type: bytes \n",
    "            aad: authenticated associated data\n",
    "                type: bytes '''\n",
    "    iv = os.urandom(12) # 96 bit initialization vector\n",
    "\n",
    "    encryptor = Cipher(\n",
    "        algorithms.AES(key), # using AES block cipher\n",
    "        modes.GCM(iv), # in GCM mode\n",
    "        backend=default_backend()\n",
    "    ).encryptor() # creating a AESGCM cipher object \n",
    "\n",
    "    encryptor.authenticate_additional_data(aad) # authenticated associate data will be authenticated but not encrypted\n",
    "    ct = encryptor.update(pt) + encryptor.finalize() # getting cipher text after encryption\n",
    "\n",
    "    return (iv, ct, encryptor.tag) \n",
    "\n",
    "def decrypt(key, aad, iv, ct, tag):\n",
    "    '''AES in GCM Mode decrytion function\n",
    "        parameters:\n",
    "            key: 128 bit random key\n",
    "            aad: authenticated associated data\n",
    "                type: bytes \n",
    "            iv: 96 bit initialization vector \n",
    "            ct: ciphertext for decryption \n",
    "                type: bytes'''\n",
    "    decryptor = Cipher(\n",
    "        algorithms.AES(key),\n",
    "        modes.GCM(iv, tag),\n",
    "        backend=default_backend()\n",
    "    ).decryptor()\n",
    "\n",
    "    # Put aad back in or the tag will fail to verify \n",
    "    decryptor.authenticate_additional_data(aad)\n",
    "\n",
    "    # decryptor provides the authenticated plaintext. \n",
    "    # if the tag does not match an InvalidTag exception will be raised \n",
    "    return decryptor.update(ct) + decryptor.finalize()\n",
    "\n",
    "if __name__ == \"__main__\":\n",
    "    plaintext = b'Hello World!'\n",
    "    plaintext_str = plaintext.decode('utf-8')\n",
    "    aad = b\"Data that is authenticated but not encrypted\" # authenticated associated data\n",
    "    aad_str = aad.decode(\"utf-8\")\n",
    "    key = os.urandom(32) # 128 bit key generation for AES \n",
    "    iv, ciphertext, tag = encrypt(key, plaintext, aad) \n",
    "    # the initialization vector, cipher text and MAC tag \n",
    "    # is returned after encryption \n",
    "    decryted_msg = decrypt(key, aad, iv, ciphertext, tag)\n",
    "    print(\"AES in GCM mode of plaintext: {}\".format(plaintext_str))\n",
    "    print(\"Authenticated Associated data: {}\".format(aad_str))\n",
    "    print(\"Initialization Vector: {}\".format(iv.hex()))\n",
    "    print(\"MAC tag: {}\".format(tag.hex()))\n",
    "    print(\"Ciphertext: {}\".format(ciphertext.hex())) \n",
    "    print(\"Decrypted message: {}\".format(decryted_msg.decode('utf-8')))"
   ]
  },
  {
   "cell_type": "markdown",
   "metadata": {},
   "source": [
    "## Attacking "
   ]
  },
  {
   "cell_type": "code",
   "execution_count": 1,
   "metadata": {
    "scrolled": true
   },
   "outputs": [
    {
     "ename": "InvalidTag",
     "evalue": "",
     "output_type": "error",
     "traceback": [
      "\u001b[1;31m---------------------------------------------------------------------------\u001b[0m",
      "\u001b[1;31mInvalidTag\u001b[0m                                Traceback (most recent call last)",
      "\u001b[1;32m<ipython-input-1-4e0b37446954>\u001b[0m in \u001b[0;36m<module>\u001b[1;34m\u001b[0m\n\u001b[0;32m     58\u001b[0m     \u001b[1;31m# is returned after encryption\u001b[0m\u001b[1;33m\u001b[0m\u001b[1;33m\u001b[0m\u001b[1;33m\u001b[0m\u001b[0m\n\u001b[0;32m     59\u001b[0m     \u001b[0mattacking_tag\u001b[0m \u001b[1;33m=\u001b[0m \u001b[0mbytes\u001b[0m\u001b[1;33m(\u001b[0m\u001b[1;36m16\u001b[0m\u001b[1;33m)\u001b[0m \u001b[1;31m# adversary entering an different MAC tag of 0s of 16 bytes\u001b[0m\u001b[1;33m\u001b[0m\u001b[1;33m\u001b[0m\u001b[0m\n\u001b[1;32m---> 60\u001b[1;33m     \u001b[0mdecryted_msg\u001b[0m \u001b[1;33m=\u001b[0m \u001b[0mdecrypt\u001b[0m\u001b[1;33m(\u001b[0m\u001b[0mkey\u001b[0m\u001b[1;33m,\u001b[0m \u001b[0maad\u001b[0m\u001b[1;33m,\u001b[0m \u001b[0miv\u001b[0m\u001b[1;33m,\u001b[0m \u001b[0mciphertext\u001b[0m\u001b[1;33m,\u001b[0m \u001b[0mattacking_tag\u001b[0m\u001b[1;33m)\u001b[0m \u001b[1;31m# decrypt function will raise a InvalidTag EXCEPTION as the tags do not match\u001b[0m\u001b[1;33m\u001b[0m\u001b[1;33m\u001b[0m\u001b[0m\n\u001b[0m\u001b[0;32m     61\u001b[0m     \u001b[0mprint\u001b[0m\u001b[1;33m(\u001b[0m\u001b[1;34m\"InvalidTag! The MAC tags of encryption and decryption donot match\"\u001b[0m\u001b[1;33m)\u001b[0m\u001b[1;33m\u001b[0m\u001b[1;33m\u001b[0m\u001b[0m\n\u001b[0;32m     62\u001b[0m     \u001b[0mprint\u001b[0m\u001b[1;33m(\u001b[0m\u001b[1;34m\"AES in GCM mode of plaintext: {}\"\u001b[0m\u001b[1;33m.\u001b[0m\u001b[0mformat\u001b[0m\u001b[1;33m(\u001b[0m\u001b[0mplaintext_str\u001b[0m\u001b[1;33m)\u001b[0m\u001b[1;33m)\u001b[0m\u001b[1;33m\u001b[0m\u001b[1;33m\u001b[0m\u001b[0m\n",
      "\u001b[1;32m<ipython-input-1-4e0b37446954>\u001b[0m in \u001b[0;36mdecrypt\u001b[1;34m(key, aad, iv, ct, tag)\u001b[0m\n\u001b[0;32m     46\u001b[0m     \u001b[1;31m# decryptor provides the authenticated plaintext.\u001b[0m\u001b[1;33m\u001b[0m\u001b[1;33m\u001b[0m\u001b[1;33m\u001b[0m\u001b[0m\n\u001b[0;32m     47\u001b[0m     \u001b[1;31m# if the tag does not match an InvalidTag exception will be raised\u001b[0m\u001b[1;33m\u001b[0m\u001b[1;33m\u001b[0m\u001b[1;33m\u001b[0m\u001b[0m\n\u001b[1;32m---> 48\u001b[1;33m     \u001b[1;32mreturn\u001b[0m \u001b[0mdecryptor\u001b[0m\u001b[1;33m.\u001b[0m\u001b[0mupdate\u001b[0m\u001b[1;33m(\u001b[0m\u001b[0mct\u001b[0m\u001b[1;33m)\u001b[0m \u001b[1;33m+\u001b[0m \u001b[0mdecryptor\u001b[0m\u001b[1;33m.\u001b[0m\u001b[0mfinalize\u001b[0m\u001b[1;33m(\u001b[0m\u001b[1;33m)\u001b[0m\u001b[1;33m\u001b[0m\u001b[1;33m\u001b[0m\u001b[0m\n\u001b[0m\u001b[0;32m     49\u001b[0m \u001b[1;33m\u001b[0m\u001b[0m\n\u001b[0;32m     50\u001b[0m \u001b[1;32mif\u001b[0m \u001b[0m__name__\u001b[0m \u001b[1;33m==\u001b[0m \u001b[1;34m\"__main__\"\u001b[0m\u001b[1;33m:\u001b[0m\u001b[1;33m\u001b[0m\u001b[1;33m\u001b[0m\u001b[0m\n",
      "\u001b[1;32mc:\\users\\vasu3\\appdata\\local\\programs\\python\\python37\\lib\\site-packages\\cryptography\\hazmat\\primitives\\ciphers\\base.py\u001b[0m in \u001b[0;36mfinalize\u001b[1;34m(self)\u001b[0m\n\u001b[0;32m    196\u001b[0m         \u001b[1;32mif\u001b[0m \u001b[0mself\u001b[0m\u001b[1;33m.\u001b[0m\u001b[0m_ctx\u001b[0m \u001b[1;32mis\u001b[0m \u001b[1;32mNone\u001b[0m\u001b[1;33m:\u001b[0m\u001b[1;33m\u001b[0m\u001b[1;33m\u001b[0m\u001b[0m\n\u001b[0;32m    197\u001b[0m             \u001b[1;32mraise\u001b[0m \u001b[0mAlreadyFinalized\u001b[0m\u001b[1;33m(\u001b[0m\u001b[1;34m\"Context was already finalized.\"\u001b[0m\u001b[1;33m)\u001b[0m\u001b[1;33m\u001b[0m\u001b[1;33m\u001b[0m\u001b[0m\n\u001b[1;32m--> 198\u001b[1;33m         \u001b[0mdata\u001b[0m \u001b[1;33m=\u001b[0m \u001b[0mself\u001b[0m\u001b[1;33m.\u001b[0m\u001b[0m_ctx\u001b[0m\u001b[1;33m.\u001b[0m\u001b[0mfinalize\u001b[0m\u001b[1;33m(\u001b[0m\u001b[1;33m)\u001b[0m\u001b[1;33m\u001b[0m\u001b[1;33m\u001b[0m\u001b[0m\n\u001b[0m\u001b[0;32m    199\u001b[0m         \u001b[0mself\u001b[0m\u001b[1;33m.\u001b[0m\u001b[0m_tag\u001b[0m \u001b[1;33m=\u001b[0m \u001b[0mself\u001b[0m\u001b[1;33m.\u001b[0m\u001b[0m_ctx\u001b[0m\u001b[1;33m.\u001b[0m\u001b[0mtag\u001b[0m\u001b[1;33m\u001b[0m\u001b[1;33m\u001b[0m\u001b[0m\n\u001b[0;32m    200\u001b[0m         \u001b[0mself\u001b[0m\u001b[1;33m.\u001b[0m\u001b[0m_ctx\u001b[0m \u001b[1;33m=\u001b[0m \u001b[1;32mNone\u001b[0m\u001b[1;33m\u001b[0m\u001b[1;33m\u001b[0m\u001b[0m\n",
      "\u001b[1;32mc:\\users\\vasu3\\appdata\\local\\programs\\python\\python37\\lib\\site-packages\\cryptography\\hazmat\\backends\\openssl\\ciphers.py\u001b[0m in \u001b[0;36mfinalize\u001b[1;34m(self)\u001b[0m\n\u001b[0;32m    168\u001b[0m \u001b[1;33m\u001b[0m\u001b[0m\n\u001b[0;32m    169\u001b[0m             \u001b[1;32mif\u001b[0m \u001b[1;32mnot\u001b[0m \u001b[0merrors\u001b[0m \u001b[1;32mand\u001b[0m \u001b[0misinstance\u001b[0m\u001b[1;33m(\u001b[0m\u001b[0mself\u001b[0m\u001b[1;33m.\u001b[0m\u001b[0m_mode\u001b[0m\u001b[1;33m,\u001b[0m \u001b[0mmodes\u001b[0m\u001b[1;33m.\u001b[0m\u001b[0mGCM\u001b[0m\u001b[1;33m)\u001b[0m\u001b[1;33m:\u001b[0m\u001b[1;33m\u001b[0m\u001b[1;33m\u001b[0m\u001b[0m\n\u001b[1;32m--> 170\u001b[1;33m                 \u001b[1;32mraise\u001b[0m \u001b[0mInvalidTag\u001b[0m\u001b[1;33m\u001b[0m\u001b[1;33m\u001b[0m\u001b[0m\n\u001b[0m\u001b[0;32m    171\u001b[0m \u001b[1;33m\u001b[0m\u001b[0m\n\u001b[0;32m    172\u001b[0m             self._backend.openssl_assert(\n",
      "\u001b[1;31mInvalidTag\u001b[0m: "
     ]
    }
   ],
   "source": [
    "import os\n",
    "from cryptography.hazmat.backends import default_backend\n",
    "from cryptography.hazmat.primitives.ciphers import (\n",
    "    Cipher, algorithms, modes\n",
    ")\n",
    "\n",
    "def encrypt(key, pt, aad):\n",
    "    '''AES in GCM Mode encrytion function\n",
    "        parameters:\n",
    "            key: 128 bit random key\n",
    "            pt: plaintext for encryption \n",
    "                type: bytes \n",
    "            aad: authenticated associated data\n",
    "                type: bytes '''\n",
    "    iv = os.urandom(12) # 96 bit initialization vector\n",
    "\n",
    "    encryptor = Cipher(\n",
    "        algorithms.AES(key), # using AES block cipher\n",
    "        modes.GCM(iv), # in GCM mode\n",
    "        backend=default_backend()\n",
    "    ).encryptor() # creating a AESGCM cipher object \n",
    "\n",
    "    encryptor.authenticate_additional_data(aad) # authenticated associate data will be authenticated but not encrypted\n",
    "    ct = encryptor.update(pt) + encryptor.finalize() # getting cipher text after encryption\n",
    "\n",
    "    return (iv, ct, encryptor.tag) \n",
    "\n",
    "def decrypt(key, aad, iv, ct, tag):\n",
    "    '''AES in GCM Mode decrytion function\n",
    "        parameters:\n",
    "            key: 128 bit random key\n",
    "            aad: authenticated associated data\n",
    "                type: bytes \n",
    "            iv: 96 bit initialization vector \n",
    "            ct: ciphertext for decryption \n",
    "                type: bytes'''\n",
    "    decryptor = Cipher(\n",
    "        algorithms.AES(key),\n",
    "        modes.GCM(iv, tag),\n",
    "        backend=default_backend()\n",
    "    ).decryptor()\n",
    "\n",
    "    # Put aad back in or the tag will fail to verify \n",
    "    decryptor.authenticate_additional_data(aad)\n",
    "\n",
    "    # decryptor provides the authenticated plaintext. \n",
    "    # if the tag does not match an InvalidTag exception will be raised \n",
    "    return decryptor.update(ct) + decryptor.finalize()\n",
    "\n",
    "if __name__ == \"__main__\":\n",
    "    plaintext = b'Hello World!'\n",
    "    plaintext_str = plaintext.decode('utf-8')\n",
    "    aad = b\"Data that is authenticated but not encrypted\" # authenticated associated data\n",
    "    aad_str = aad.decode(\"utf-8\")\n",
    "    key = os.urandom(32) # 128 bit key generation for AES \n",
    "    iv, ciphertext, tag = encrypt(key, plaintext, aad) \n",
    "    # the initialization vector, cipher text and MAC tag \n",
    "    # is returned after encryption \n",
    "    attacking_tag = bytes(16) # adversary entering an different MAC tag of 0s of 16 bytes\n",
    "    decryted_msg = decrypt(key, aad, iv, ciphertext, attacking_tag) # decrypt function will raise a InvalidTag EXCEPTION as the tags do not match\n",
    "    print(\"InvalidTag! The MAC tags of encryption and decryption donot match\")    \n",
    "    print(\"AES in GCM mode of plaintext: {}\".format(plaintext_str))\n",
    "    print(\"Authenticated Associated data: {}\".format(aad_str))\n",
    "    print(\"Initialization Vector: {}\".format(iv.hex()))\n",
    "    print(\"MAC tag: {}\".format(tag.hex()))\n",
    "    print(\"Ciphertext: {}\".format(ciphertext.hex())) \n",
    "    print(\"Decrypted message: {}\".format(decryted_msg.decode('utf-8')))"
   ]
  },
  {
   "cell_type": "markdown",
   "metadata": {},
   "source": [
    "## Performance Evaluation of AES in GCM mode "
   ]
  },
  {
   "cell_type": "code",
   "execution_count": 3,
   "metadata": {},
   "outputs": [
    {
     "name": "stdout",
     "output_type": "stream",
     "text": [
      "AES in GCM mode of 64MB 0x0\n",
      "Elapsed time for encryption of 64MB 0x0: 0.1525 sec\n",
      "Performance of Encryption is: 419.7914 MB/s\n",
      "Elapsed time for decryption of 64MB 0x0: 0.1564 sec\n",
      "Performance of Decryption is: 409.0933 MB/s\n"
     ]
    }
   ],
   "source": [
    "import os\n",
    "from cryptography.hazmat.backends import default_backend\n",
    "from cryptography.hazmat.primitives.ciphers import (\n",
    "    Cipher, algorithms, modes\n",
    ")\n",
    "import time\n",
    "def encrypt(key, pt, aad):\n",
    "    '''AES in GCM Mode encrytion function\n",
    "        parameters:\n",
    "            key: 128 bit random key\n",
    "            pt: plaintext for encryption \n",
    "                type: bytes \n",
    "            aad: authenticated associated data\n",
    "                type: bytes '''\n",
    "    iv = os.urandom(12) # 96 bit initialization vector\n",
    "\n",
    "    encryptor = Cipher(\n",
    "        algorithms.AES(key), # using AES block cipher\n",
    "        modes.GCM(iv), # in GCM mode\n",
    "        backend=default_backend()\n",
    "    ).encryptor() # creating a AESGCM cipher object \n",
    "\n",
    "    encryptor.authenticate_additional_data(aad) # authenticated associate data will be authenticated but not encrypted\n",
    "    ct = encryptor.update(pt) + encryptor.finalize() # getting cipher text after encryption\n",
    "\n",
    "    return (iv, ct, encryptor.tag) \n",
    "\n",
    "def decrypt(key, aad, iv, ct, tag):\n",
    "    '''AES in GCM Mode decrytion function\n",
    "        parameters:\n",
    "            key: 128 bit random key\n",
    "            aad: authenticated associated data\n",
    "                type: bytes \n",
    "            iv: 96 bit initialization vector \n",
    "            ct: ciphertext for decryption \n",
    "                type: bytes'''\n",
    "    decryptor = Cipher(\n",
    "        algorithms.AES(key),\n",
    "        modes.GCM(iv, tag),\n",
    "        backend=default_backend()\n",
    "    ).decryptor()\n",
    "\n",
    "    # Put aad back in or the tag will fail to verify \n",
    "    decryptor.authenticate_additional_data(aad)\n",
    "\n",
    "    # decryptor provides the authenticated plaintext. \n",
    "    # if the tag does not match an InvalidTag exception will be raised \n",
    "    return decryptor.update(ct) + decryptor.finalize()\n",
    "\n",
    "if __name__ == \"__main__\":\n",
    "    plaintext = bytes(64*1000*1000 - 33) # 64 MB message subract by 33 to remove the bytes header data\n",
    "    aad = b\"Data that is authenticated but not encrypted\" # authenticated associated data\n",
    "    aad_str = aad.decode(\"utf-8\")\n",
    "    encrypt_start = time.time()\n",
    "    for i in  range(0, 10): # doing 10 iterations of encryption\n",
    "        key = os.urandom(32) # 128 bit key generation for AES \n",
    "        iv, ciphertext, tag = encrypt(key, plaintext, aad)\n",
    "        # the initialization vector, cipher text and MAC tag \n",
    "        # is returned after encryption\n",
    "    encrypt_end = time.time()\n",
    "    encrypt_elapsed_time = encrypt_end - encrypt_start\n",
    "    avg_encrypt_elapsed_time = encrypt_elapsed_time/10\n",
    "    encrypt_perf = 64/avg_encrypt_elapsed_time\n",
    "    decrypt_start = time.time()\n",
    "    for i in range(0, 10): # doing 10 iterations of decryption\n",
    "        decryted_msg = decrypt(key, aad, iv, ciphertext, tag)\n",
    "    decrypt_end = time.time()\n",
    "    decrypt_elapsed_time = decrypt_end - decrypt_start\n",
    "    avg_decrypt_elapsed_time = decrypt_elapsed_time/10\n",
    "    decrypt_perf = 64/avg_decrypt_elapsed_time\n",
    "    print(\"AES in GCM mode of 64MB 0x0\")\n",
    "    print(\"Elapsed time for encryption of 64MB 0x0: {} sec\".format(round(avg_encrypt_elapsed_time, 4)))\n",
    "    print(\"Performance of Encryption is: {} MB/s\".format(round(encrypt_perf, 4)))\n",
    "    print(\"Elapsed time for decryption of 64MB 0x0: {} sec\".format(round(avg_decrypt_elapsed_time, 4)))\n",
    "    print(\"Performance of Decryption is: {} MB/s\".format(round(decrypt_perf, 4)))\n",
    "   \n",
    "  "
   ]
  },
  {
   "cell_type": "markdown",
   "metadata": {},
   "source": [
    "## AES IN CBC Mode Validation"
   ]
  },
  {
   "cell_type": "code",
   "execution_count": 11,
   "metadata": {},
   "outputs": [
    {
     "name": "stdout",
     "output_type": "stream",
     "text": [
      "AES in CBC mode with padding of [a secret message]\n",
      "Plaintext: 6120736563726574206d657373616765\n",
      "CipherText: 56fbf2030b8de568625f62e78e4e7459\n",
      "Decrypted Message: a secret message\n"
     ]
    }
   ],
   "source": [
    "import os\n",
    "from cryptography.hazmat.primitives.ciphers import Cipher, algorithms, modes\n",
    "from cryptography.hazmat.backends import default_backend\n",
    "\n",
    "\n",
    "if __name__ == \"__main__\":\n",
    "    backend = default_backend()\n",
    "    key = os.urandom(16) # 128 bit key\n",
    "    iv = os.urandom(16) # 128 bit IV \n",
    "    cipher = Cipher(algorithms.AES(key), modes.CBC(iv), backend=backend)\n",
    "    encryptor = cipher.encryptor()\n",
    "    # the buffer needs to be at leasr lenght of data + n - 1 where n is cipher/mode block size in bytes\n",
    "    buf = bytearray(31)\n",
    "    plaintext = b'a secret message'\n",
    "    len_encrypted = encryptor.update_into(plaintext, buf)\n",
    "    ciphertext = bytes(buf[:len_encrypted]) + encryptor.finalize()\n",
    "    decryptor = cipher.decryptor()\n",
    "    len_decrypted = decryptor.update_into(ciphertext, buf)\n",
    "    decrypted_msg = bytes(buf[:len_decrypted]) + decryptor.finalize()\n",
    "    print(\"AES in CBC mode with padding of [a secret message]\")\n",
    "    print(\"Plaintext: {}\".format(plaintext.hex()))\n",
    "    print(\"CipherText: {}\".format(ciphertext.hex()))\n",
    "    print(\"Decrypted Message: {}\".format(decrypted_msg.decode('utf-8')))"
   ]
  },
  {
   "cell_type": "markdown",
   "metadata": {},
   "source": [
    "## AES in CBC Mode Performance Evaluation"
   ]
  },
  {
   "cell_type": "code",
   "execution_count": 1,
   "metadata": {},
   "outputs": [
    {
     "name": "stdout",
     "output_type": "stream",
     "text": [
      "AES in CBC mode with padding of 64MB 0x0!\n",
      "Time taken for encryption: 0.15306973457336426 secs\n",
      "Performance of encryption: 418.1100867417109 MB/s\n",
      "Time taken for decryption: 0.09505033493041992 secs\n",
      "Performance of decryption: 673.3274537838313 MB/s\n"
     ]
    }
   ],
   "source": [
    "import os\n",
    "import time\n",
    "from cryptography.hazmat.primitives.ciphers import Cipher, algorithms, modes\n",
    "from cryptography.hazmat.backends import default_backend\n",
    "\n",
    "\n",
    "if __name__ == \"__main__\":\n",
    "    backend = default_backend()\n",
    "    key = os.urandom(16) # 128 bit key\n",
    "    iv = os.urandom(16) # 128 bit IV \n",
    "    cipher = Cipher(algorithms.AES(key), modes.CBC(iv), backend=backend)\n",
    "    encryptor = cipher.encryptor()\n",
    "    # the buffer needs to be at leasr lenght of data + n - 1 where n is cipher/mode block size in bytes\n",
    "    buf = bytearray(64000160)\n",
    "    plaintext = bytes(64*1000*1000) # 64 MB message subract by 33 to remove the bytes header data\n",
    "    en_start = time.time()\n",
    "    len_encrypted = encryptor.update_into(plaintext, buf)\n",
    "    ciphertext = bytes(buf[:len_encrypted]) + encryptor.finalize()\n",
    "    en_end = time.time()\n",
    "    total_time = en_end - en_start\n",
    "    en_perf = 64/total_time\n",
    "    de_start = time.time()\n",
    "    decryptor = cipher.decryptor()\n",
    "    len_decrypted = decryptor.update_into(ciphertext, buf)\n",
    "    decrypted_msg = bytes(buf[:len_decrypted]) + decryptor.finalize()\n",
    "    de_end = time.time()\n",
    "    tt = de_end - de_start\n",
    "    de_perf = 64/tt\n",
    "    print(\"AES in CBC mode with padding of 64MB 0x0!\")\n",
    "    print(\"Time taken for encryption: {} secs\".format(total_time))\n",
    "    print(\"Performance of encryption: {} MB/s\".format(en_perf))\n",
    "    print(\"Time taken for decryption: {} secs\".format(tt))\n",
    "    print(\"Performance of decryption: {} MB/s\".format(de_perf))"
   ]
  }
 ],
 "metadata": {
  "kernelspec": {
   "display_name": "Python 3",
   "language": "python",
   "name": "python3"
  },
  "language_info": {
   "codemirror_mode": {
    "name": "ipython",
    "version": 3
   },
   "file_extension": ".py",
   "mimetype": "text/x-python",
   "name": "python",
   "nbconvert_exporter": "python",
   "pygments_lexer": "ipython3",
   "version": "3.7.4"
  }
 },
 "nbformat": 4,
 "nbformat_minor": 2
}
