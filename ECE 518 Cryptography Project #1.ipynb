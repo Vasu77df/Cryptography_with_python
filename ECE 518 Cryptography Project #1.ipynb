{
 "cells": [
  {
   "cell_type": "markdown",
   "metadata": {},
   "source": [
    "# ECE 443/518 Fall 2019 - Project 1\n",
    "# Cryptographic Hash Functions and Ciphers\n"
   ]
  },
  {
   "cell_type": "markdown",
   "metadata": {},
   "source": [
    "## Cryptographic Hash Functions"
   ]
  },
  {
   "cell_type": "markdown",
   "metadata": {},
   "source": [
    "### SHA-256 Validation"
   ]
  },
  {
   "cell_type": "code",
   "execution_count": 3,
   "metadata": {},
   "outputs": [
    {
     "name": "stdout",
     "output_type": "stream",
     "text": [
      "Enter Plaintext here:Hello World!\n",
      "Plaintext entered:Hello World!\n",
      "Expected Messsage Digest: \n",
      " 7f83b1657ff1fc53b92dc18148a1d65dfc2d4b1fa3d677284addd200126d9069\n",
      "Computed Message digest after SHA256 hashing:\n",
      " 7f83b1657ff1fc53b92dc18148a1d65dfc2d4b1fa3d677284addd200126d9069 \n"
     ]
    }
   ],
   "source": [
    "from cryptography.hazmat.backends import default_backend # importing backend for the hashing algorithms\n",
    "from cryptography.hazmat.primitives import hashes # importing hashing functions\n",
    "\n",
    "\n",
    "def SHA_256(message):\n",
    "    digest = hashes.Hash(hashes.SHA256(), backend=default_backend()) # Initializing the hashing function to be used \n",
    "    digest.update(message) # Hashing of the message is done\n",
    "    msg_digest = digest.finalize() # Finalizing the current context and returning the digest in bytes\n",
    "    return msg_digest\n",
    "\n",
    "if __name__ == \"__main__\":\n",
    "    plaintext = input(\"Enter Plaintext here:\") # Enter the plaintext to be hashed \n",
    "    byte_plaintext = plaintext.encode() # Converting the string datatype to bytes datatype for hashing \n",
    "    digest = SHA_256(byte_plaintext) \n",
    "    digest_hex = digest.hex() # Converting the digest returned in bytes format to hexadecimal format \n",
    "    print (\"Plaintext entered:{}\".format(plaintext))\n",
    "    print(\"Expected Messsage Digest: \\n 7f83b1657ff1fc53b92dc18148a1d65dfc2d4b1fa3d677284addd200126d9069\")\n",
    "    print(\"Computed Message digest after SHA256 hashing:\\n {} \".format(digest_hex))\n",
    "    "
   ]
  },
  {
   "cell_type": "markdown",
   "metadata": {},
   "source": [
    "### Performance Evaluation of SHA 256"
   ]
  },
  {
   "cell_type": "code",
   "execution_count": 11,
   "metadata": {},
   "outputs": [
    {
     "name": "stdout",
     "output_type": "stream",
     "text": [
      "SHA 256 of 256MB 0x00\n",
      "Message digest after SHA256 hashing is: \n",
      "f9f426e77227823de210deeeb3c5f258532937b4dfd40af797e572f44a3a9b9e \n",
      "Average Time taken for Hashing the plaintext: 0.751880889999984 seconds\n",
      "The performance of the hashing function is 340.4794607826852 MB/s\n"
     ]
    }
   ],
   "source": [
    "from cryptography.hazmat.backends import default_backend\n",
    "from cryptography.hazmat.primitives import hashes\n",
    "import timeit\n",
    "\n",
    "setup_code = '''\n",
    "from cryptography.hazmat.backends import default_backend\n",
    "from cryptography.hazmat.primitives import hashes\n",
    "'''\n",
    "\n",
    "evaluation_code = '''\n",
    "digest = hashes.Hash(hashes.SHA256(), backend=default_backend())\n",
    "digest.update(bytes(256*1000*1000))\n",
    "digest.finalize()\n",
    "'''\n",
    "\n",
    "def SHA_256(message):\n",
    "    digest = hashes.Hash(hashes.SHA256(), backend=default_backend()) # Initializing the hashing function to be used \n",
    "    digest.update(message) # Hashing of the message is done\n",
    "    msg_digest = digest.finalize() # Finalizing the current context and returning the digest in bytes\n",
    "    return msg_digest\n",
    "\n",
    "if __name__ == \"__main__\":\n",
    "    byte_plaintext = bytes(256*1000*100)\n",
    "    digest = SHA_256(byte_plaintext) \n",
    "    digest_hex = digest.hex() # Converting the digest returned in bytes format to hexadecimal format \n",
    "    print(\"SHA 256 of 256MB 0x00\")\n",
    "    print(\"Message digest after SHA256 hashing is: \\n{} \".format(digest_hex))\n",
    "    total_time = timeit.timeit(setup=setup_code, stmt=evaluation_code, number=10) # running the hash function 10 times and obtaining total time elapsed \n",
    "    execution_time = total_time/10\n",
    "    print(\"Average Time taken for Hashing the plaintext: {} seconds\".format(execution_time))\n",
    "    performance = 256/execution_time\n",
    "    print(\"The performance of the hashing function is {} MB/s\".format(performance))\n"
   ]
  },
  {
   "cell_type": "markdown",
   "metadata": {},
   "source": [
    "### SHA 512 Validation"
   ]
  },
  {
   "cell_type": "code",
   "execution_count": 7,
   "metadata": {},
   "outputs": [
    {
     "name": "stdout",
     "output_type": "stream",
     "text": [
      "Enter Plaintext here:Hello World!\n",
      "Plaintext entered:Hello World!\n",
      "Expected Messsage Digest: \n",
      " 861844d6704e8573fec34d967e20bcfef3d424cf48be04e6dc08f2bd58c729743371015ead891cc3cf1c9d34b49264b510751b1ff9e537937bc46b5d6ff4ecc8\n",
      "Computed Message digest after SHA512 hashing:\n",
      " 861844d6704e8573fec34d967e20bcfef3d424cf48be04e6dc08f2bd58c729743371015ead891cc3cf1c9d34b49264b510751b1ff9e537937bc46b5d6ff4ecc8 \n"
     ]
    }
   ],
   "source": [
    "from cryptography.hazmat.backends import default_backend # importing backend for the hashing algorithms\n",
    "from cryptography.hazmat.primitives import hashes # importing hashing functions\n",
    "\n",
    "\n",
    "def SHA_512(message):\n",
    "    digest = hashes.Hash(hashes.SHA512(), backend=default_backend()) # Initializing the hashing function to be used \n",
    "    digest.update(message) # Hashing of the message is done\n",
    "    msg_digest = digest.finalize() # Finalizing the current context and returning the digest in bytes\n",
    "    return msg_digest\n",
    "\n",
    "if __name__ == \"__main__\":\n",
    "    plaintext = input(\"Enter Plaintext here:\") # Enter the plaintext to be hashed \n",
    "    byte_plaintext = plaintext.encode() # Converting the string datatype to bytes datatype for hashing \n",
    "    digest = SHA_512(byte_plaintext) \n",
    "    digest_hex = digest.hex() # Converting the digest returned in bytes format to hexadecimal format \n",
    "    print (\"Plaintext entered:{}\".format(plaintext))\n",
    "    print(\"Expected Messsage Digest: \\n 861844d6704e8573fec34d967e20bcfef3d424cf48be04e6dc08f2bd58c729743371015ead891cc3cf1c9d34b49264b510751b1ff9e537937bc46b5d6ff4ecc8\")\n",
    "    print(\"Computed Message digest after SHA512 hashing:\\n {} \".format(digest_hex))"
   ]
  },
  {
   "cell_type": "markdown",
   "metadata": {},
   "source": [
    "### Performance Evaluation Of SHA512"
   ]
  },
  {
   "cell_type": "code",
   "execution_count": 9,
   "metadata": {},
   "outputs": [
    {
     "name": "stdout",
     "output_type": "stream",
     "text": [
      "SHA 512 of 256MB 0x00\n",
      "Message digest after SHA512 hashing is: \n",
      "d40f36e95eff70d65a54356fba8f8388043ebd2520f98b14a2c962fec6ae403f06f77a46b40f354822e9901c9616e7714311a10d708fe47867cb29d914cd726e \n",
      "Average Time taken for Hashing the plaintext: 0.561877410000011 seconds\n",
      "The performance of the hashing function is: 455.6153983837773 MB/s\n"
     ]
    }
   ],
   "source": [
    "from cryptography.hazmat.backends import default_backend\n",
    "from cryptography.hazmat.primitives import hashes\n",
    "import timeit\n",
    "\n",
    "setup_code = '''\n",
    "from cryptography.hazmat.backends import default_backend\n",
    "from cryptography.hazmat.primitives import hashes\n",
    "'''\n",
    "\n",
    "evaluation_code = '''\n",
    "digest = hashes.Hash(hashes.SHA512(), backend=default_backend())\n",
    "digest.update(bytes(256*1000*1000))\n",
    "digest.finalize()\n",
    "'''\n",
    "\n",
    "def SHA_512(message):\n",
    "    digest = hashes.Hash(hashes.SHA512(), backend=default_backend()) # Initializing the hashing function to be used \n",
    "    digest.update(message) # Hashing of the message is done\n",
    "    msg_digest = digest.finalize() # Finalizing the current context and returning the digest in bytes\n",
    "    return msg_digest\n",
    "\n",
    "if __name__ == \"__main__\":\n",
    "    byte_plaintext = bytes(256*1000*100)\n",
    "    digest = SHA_512(byte_plaintext) \n",
    "    digest_hex = digest.hex() # Converting the digest returned in bytes format to hexadecimal format \n",
    "    print(\"SHA 512 of 256MB 0x00\")\n",
    "    print(\"Message digest after SHA512 hashing is: \\n{} \".format(digest_hex))\n",
    "    total_time = timeit.timeit(setup=setup_code, stmt=evaluation_code, number=10) # running the hash function 10 times and obtaining total time elapsed \n",
    "    execution_time = total_time/10\n",
    "    print(\"Average Time taken for Hashing the plaintext: {} seconds\".format(execution_time))\n",
    "    performance = 256/execution_time\n",
    "    print(\"The performance of the hashing function is: {} MB/s\".format(performance))"
   ]
  },
  {
   "cell_type": "markdown",
   "metadata": {},
   "source": [
    "## Ciphers "
   ]
  },
  {
   "cell_type": "markdown",
   "metadata": {},
   "source": [
    "## AES in GCM mode Validation"
   ]
  },
  {
   "cell_type": "code",
   "execution_count": 2,
   "metadata": {},
   "outputs": [
    {
     "name": "stdout",
     "output_type": "stream",
     "text": [
      "AES in GCM mode of plaintext: Hello World!\n",
      "Authenticated Associated data: Data that is authenticated but not encrypted\n",
      "Initialization Vector: df5032b3714f21a672856cf5\n",
      "MAC tag: f619ae0e71051fea50469de1c7c506f0\n",
      "Ciphertext: 84e36186a34fdb53dfb46656\n",
      "Decrypted message: Hello World!\n"
     ]
    }
   ],
   "source": [
    "import os\n",
    "from cryptography.hazmat.backends import default_backend\n",
    "from cryptography.hazmat.primitives.ciphers import (\n",
    "    Cipher, algorithms, modes\n",
    ")\n",
    "\n",
    "def encrypt(key, pt, aad):\n",
    "    '''AES in GCM Mode encrytion function\n",
    "        parameters:\n",
    "            key: 128 bit random key\n",
    "            pt: plaintext for encryption \n",
    "                type: bytes \n",
    "            aad: authenticated associated data\n",
    "                type: bytes '''\n",
    "    iv = os.urandom(12) # 96 bit initialization vector\n",
    "\n",
    "    encryptor = Cipher(\n",
    "        algorithms.AES(key), # using AES block cipher\n",
    "        modes.GCM(iv), # in GCM mode\n",
    "        backend=default_backend()\n",
    "    ).encryptor() # creating a AESGCM cipher object \n",
    "\n",
    "    encryptor.authenticate_additional_data(aad) # authenticated associate data will be authenticated but not encrypted\n",
    "    ct = encryptor.update(pt) + encryptor.finalize() # getting cipher text after encryption\n",
    "\n",
    "    return (iv, ct, encryptor.tag) \n",
    "\n",
    "def decrypt(key, aad, iv, ct, tag):\n",
    "    '''AES in GCM Mode decrytion function\n",
    "        parameters:\n",
    "            key: 128 bit random key\n",
    "            aad: authenticated associated data\n",
    "                type: bytes \n",
    "            iv: 96 bit initialization vector \n",
    "            ct: ciphertext for decryption \n",
    "                type: bytes'''\n",
    "    decryptor = Cipher(\n",
    "        algorithms.AES(key),\n",
    "        modes.GCM(iv, tag),\n",
    "        backend=default_backend()\n",
    "    ).decryptor()\n",
    "\n",
    "    # Put aad back in or the tag will fail to verify \n",
    "    decryptor.authenticate_additional_data(aad)\n",
    "\n",
    "    # decryptor provides the authenticated plaintext. \n",
    "    # if the tag does not match an InvalidTag exception will be raised \n",
    "    return decryptor.update(ct) + decryptor.finalize()\n",
    "\n",
    "if __name__ == \"__main__\":\n",
    "    plaintext = b'Hello World!'\n",
    "    plaintext_str = plaintext.decode('utf-8')\n",
    "    aad = b\"Data that is authenticated but not encrypted\" # authenticated associated data\n",
    "    aad_str = aad.decode(\"utf-8\")\n",
    "    key = os.urandom(32) # 128 bit key generation for AES \n",
    "    iv, ciphertext, tag = encrypt(key, plaintext, aad) \n",
    "    # the initialization vector, cipher text and MAC tag \n",
    "    # is returned after encryption \n",
    "    decryted_msg = decrypt(key, aad, iv, ciphertext, tag)\n",
    "    print(\"AES in GCM mode of plaintext: {}\".format(plaintext_str))\n",
    "    print(\"Authenticated Associated data: {}\".format(aad_str))\n",
    "    print(\"Initialization Vector: {}\".format(iv.hex()))\n",
    "    print(\"MAC tag: {}\".format(tag.hex()))\n",
    "    print(\"Ciphertext: {}\".format(ciphertext.hex())) \n",
    "    print(\"Decrypted message: {}\".format(decryted_msg.decode('utf-8')))"
   ]
  },
  {
   "cell_type": "markdown",
   "metadata": {},
   "source": [
    "## Attacking "
   ]
  },
  {
   "cell_type": "code",
   "execution_count": 7,
   "metadata": {},
   "outputs": [
    {
     "ename": "InvalidTag",
     "evalue": "",
     "output_type": "error",
     "traceback": [
      "\u001b[1;31m---------------------------------------------------------------------------\u001b[0m",
      "\u001b[1;31mInvalidTag\u001b[0m                                Traceback (most recent call last)",
      "\u001b[1;32m<ipython-input-7-4e0b37446954>\u001b[0m in \u001b[0;36m<module>\u001b[1;34m\u001b[0m\n\u001b[0;32m     58\u001b[0m     \u001b[1;31m# is returned after encryption\u001b[0m\u001b[1;33m\u001b[0m\u001b[1;33m\u001b[0m\u001b[1;33m\u001b[0m\u001b[0m\n\u001b[0;32m     59\u001b[0m     \u001b[0mattacking_tag\u001b[0m \u001b[1;33m=\u001b[0m \u001b[0mbytes\u001b[0m\u001b[1;33m(\u001b[0m\u001b[1;36m16\u001b[0m\u001b[1;33m)\u001b[0m \u001b[1;31m# adversary entering an different MAC tag of 0s of 16 bytes\u001b[0m\u001b[1;33m\u001b[0m\u001b[1;33m\u001b[0m\u001b[0m\n\u001b[1;32m---> 60\u001b[1;33m     \u001b[0mdecryted_msg\u001b[0m \u001b[1;33m=\u001b[0m \u001b[0mdecrypt\u001b[0m\u001b[1;33m(\u001b[0m\u001b[0mkey\u001b[0m\u001b[1;33m,\u001b[0m \u001b[0maad\u001b[0m\u001b[1;33m,\u001b[0m \u001b[0miv\u001b[0m\u001b[1;33m,\u001b[0m \u001b[0mciphertext\u001b[0m\u001b[1;33m,\u001b[0m \u001b[0mattacking_tag\u001b[0m\u001b[1;33m)\u001b[0m \u001b[1;31m# decrypt function will raise a InvalidTag EXCEPTION as the tags do not match\u001b[0m\u001b[1;33m\u001b[0m\u001b[1;33m\u001b[0m\u001b[0m\n\u001b[0m\u001b[0;32m     61\u001b[0m     \u001b[0mprint\u001b[0m\u001b[1;33m(\u001b[0m\u001b[1;34m\"InvalidTag! The MAC tags of encryption and decryption donot match\"\u001b[0m\u001b[1;33m)\u001b[0m\u001b[1;33m\u001b[0m\u001b[1;33m\u001b[0m\u001b[0m\n\u001b[0;32m     62\u001b[0m     \u001b[0mprint\u001b[0m\u001b[1;33m(\u001b[0m\u001b[1;34m\"AES in GCM mode of plaintext: {}\"\u001b[0m\u001b[1;33m.\u001b[0m\u001b[0mformat\u001b[0m\u001b[1;33m(\u001b[0m\u001b[0mplaintext_str\u001b[0m\u001b[1;33m)\u001b[0m\u001b[1;33m)\u001b[0m\u001b[1;33m\u001b[0m\u001b[1;33m\u001b[0m\u001b[0m\n",
      "\u001b[1;32m<ipython-input-7-4e0b37446954>\u001b[0m in \u001b[0;36mdecrypt\u001b[1;34m(key, aad, iv, ct, tag)\u001b[0m\n\u001b[0;32m     46\u001b[0m     \u001b[1;31m# decryptor provides the authenticated plaintext.\u001b[0m\u001b[1;33m\u001b[0m\u001b[1;33m\u001b[0m\u001b[1;33m\u001b[0m\u001b[0m\n\u001b[0;32m     47\u001b[0m     \u001b[1;31m# if the tag does not match an InvalidTag exception will be raised\u001b[0m\u001b[1;33m\u001b[0m\u001b[1;33m\u001b[0m\u001b[1;33m\u001b[0m\u001b[0m\n\u001b[1;32m---> 48\u001b[1;33m     \u001b[1;32mreturn\u001b[0m \u001b[0mdecryptor\u001b[0m\u001b[1;33m.\u001b[0m\u001b[0mupdate\u001b[0m\u001b[1;33m(\u001b[0m\u001b[0mct\u001b[0m\u001b[1;33m)\u001b[0m \u001b[1;33m+\u001b[0m \u001b[0mdecryptor\u001b[0m\u001b[1;33m.\u001b[0m\u001b[0mfinalize\u001b[0m\u001b[1;33m(\u001b[0m\u001b[1;33m)\u001b[0m\u001b[1;33m\u001b[0m\u001b[1;33m\u001b[0m\u001b[0m\n\u001b[0m\u001b[0;32m     49\u001b[0m \u001b[1;33m\u001b[0m\u001b[0m\n\u001b[0;32m     50\u001b[0m \u001b[1;32mif\u001b[0m \u001b[0m__name__\u001b[0m \u001b[1;33m==\u001b[0m \u001b[1;34m\"__main__\"\u001b[0m\u001b[1;33m:\u001b[0m\u001b[1;33m\u001b[0m\u001b[1;33m\u001b[0m\u001b[0m\n",
      "\u001b[1;32mc:\\users\\vasu3\\appdata\\local\\programs\\python\\python37\\lib\\site-packages\\cryptography\\hazmat\\primitives\\ciphers\\base.py\u001b[0m in \u001b[0;36mfinalize\u001b[1;34m(self)\u001b[0m\n\u001b[0;32m    196\u001b[0m         \u001b[1;32mif\u001b[0m \u001b[0mself\u001b[0m\u001b[1;33m.\u001b[0m\u001b[0m_ctx\u001b[0m \u001b[1;32mis\u001b[0m \u001b[1;32mNone\u001b[0m\u001b[1;33m:\u001b[0m\u001b[1;33m\u001b[0m\u001b[1;33m\u001b[0m\u001b[0m\n\u001b[0;32m    197\u001b[0m             \u001b[1;32mraise\u001b[0m \u001b[0mAlreadyFinalized\u001b[0m\u001b[1;33m(\u001b[0m\u001b[1;34m\"Context was already finalized.\"\u001b[0m\u001b[1;33m)\u001b[0m\u001b[1;33m\u001b[0m\u001b[1;33m\u001b[0m\u001b[0m\n\u001b[1;32m--> 198\u001b[1;33m         \u001b[0mdata\u001b[0m \u001b[1;33m=\u001b[0m \u001b[0mself\u001b[0m\u001b[1;33m.\u001b[0m\u001b[0m_ctx\u001b[0m\u001b[1;33m.\u001b[0m\u001b[0mfinalize\u001b[0m\u001b[1;33m(\u001b[0m\u001b[1;33m)\u001b[0m\u001b[1;33m\u001b[0m\u001b[1;33m\u001b[0m\u001b[0m\n\u001b[0m\u001b[0;32m    199\u001b[0m         \u001b[0mself\u001b[0m\u001b[1;33m.\u001b[0m\u001b[0m_tag\u001b[0m \u001b[1;33m=\u001b[0m \u001b[0mself\u001b[0m\u001b[1;33m.\u001b[0m\u001b[0m_ctx\u001b[0m\u001b[1;33m.\u001b[0m\u001b[0mtag\u001b[0m\u001b[1;33m\u001b[0m\u001b[1;33m\u001b[0m\u001b[0m\n\u001b[0;32m    200\u001b[0m         \u001b[0mself\u001b[0m\u001b[1;33m.\u001b[0m\u001b[0m_ctx\u001b[0m \u001b[1;33m=\u001b[0m \u001b[1;32mNone\u001b[0m\u001b[1;33m\u001b[0m\u001b[1;33m\u001b[0m\u001b[0m\n",
      "\u001b[1;32mc:\\users\\vasu3\\appdata\\local\\programs\\python\\python37\\lib\\site-packages\\cryptography\\hazmat\\backends\\openssl\\ciphers.py\u001b[0m in \u001b[0;36mfinalize\u001b[1;34m(self)\u001b[0m\n\u001b[0;32m    168\u001b[0m \u001b[1;33m\u001b[0m\u001b[0m\n\u001b[0;32m    169\u001b[0m             \u001b[1;32mif\u001b[0m \u001b[1;32mnot\u001b[0m \u001b[0merrors\u001b[0m \u001b[1;32mand\u001b[0m \u001b[0misinstance\u001b[0m\u001b[1;33m(\u001b[0m\u001b[0mself\u001b[0m\u001b[1;33m.\u001b[0m\u001b[0m_mode\u001b[0m\u001b[1;33m,\u001b[0m \u001b[0mmodes\u001b[0m\u001b[1;33m.\u001b[0m\u001b[0mGCM\u001b[0m\u001b[1;33m)\u001b[0m\u001b[1;33m:\u001b[0m\u001b[1;33m\u001b[0m\u001b[1;33m\u001b[0m\u001b[0m\n\u001b[1;32m--> 170\u001b[1;33m                 \u001b[1;32mraise\u001b[0m \u001b[0mInvalidTag\u001b[0m\u001b[1;33m\u001b[0m\u001b[1;33m\u001b[0m\u001b[0m\n\u001b[0m\u001b[0;32m    171\u001b[0m \u001b[1;33m\u001b[0m\u001b[0m\n\u001b[0;32m    172\u001b[0m             self._backend.openssl_assert(\n",
      "\u001b[1;31mInvalidTag\u001b[0m: "
     ]
    }
   ],
   "source": [
    "import os\n",
    "from cryptography.hazmat.backends import default_backend\n",
    "from cryptography.hazmat.primitives.ciphers import (\n",
    "    Cipher, algorithms, modes\n",
    ")\n",
    "\n",
    "def encrypt(key, pt, aad):\n",
    "    '''AES in GCM Mode encrytion function\n",
    "        parameters:\n",
    "            key: 128 bit random key\n",
    "            pt: plaintext for encryption \n",
    "                type: bytes \n",
    "            aad: authenticated associated data\n",
    "                type: bytes '''\n",
    "    iv = os.urandom(12) # 96 bit initialization vector\n",
    "\n",
    "    encryptor = Cipher(\n",
    "        algorithms.AES(key), # using AES block cipher\n",
    "        modes.GCM(iv), # in GCM mode\n",
    "        backend=default_backend()\n",
    "    ).encryptor() # creating a AESGCM cipher object \n",
    "\n",
    "    encryptor.authenticate_additional_data(aad) # authenticated associate data will be authenticated but not encrypted\n",
    "    ct = encryptor.update(pt) + encryptor.finalize() # getting cipher text after encryption\n",
    "\n",
    "    return (iv, ct, encryptor.tag) \n",
    "\n",
    "def decrypt(key, aad, iv, ct, tag):\n",
    "    '''AES in GCM Mode decrytion function\n",
    "        parameters:\n",
    "            key: 128 bit random key\n",
    "            aad: authenticated associated data\n",
    "                type: bytes \n",
    "            iv: 96 bit initialization vector \n",
    "            ct: ciphertext for decryption \n",
    "                type: bytes'''\n",
    "    decryptor = Cipher(\n",
    "        algorithms.AES(key),\n",
    "        modes.GCM(iv, tag),\n",
    "        backend=default_backend()\n",
    "    ).decryptor()\n",
    "\n",
    "    # Put aad back in or the tag will fail to verify \n",
    "    decryptor.authenticate_additional_data(aad)\n",
    "\n",
    "    # decryptor provides the authenticated plaintext. \n",
    "    # if the tag does not match an InvalidTag exception will be raised \n",
    "    return decryptor.update(ct) + decryptor.finalize()\n",
    "\n",
    "if __name__ == \"__main__\":\n",
    "    plaintext = b'Hello World!'\n",
    "    plaintext_str = plaintext.decode('utf-8')\n",
    "    aad = b\"Data that is authenticated but not encrypted\" # authenticated associated data\n",
    "    aad_str = aad.decode(\"utf-8\")\n",
    "    key = os.urandom(32) # 128 bit key generation for AES \n",
    "    iv, ciphertext, tag = encrypt(key, plaintext, aad) \n",
    "    # the initialization vector, cipher text and MAC tag \n",
    "    # is returned after encryption \n",
    "    attacking_tag = bytes(16) # adversary entering an different MAC tag of 0s of 16 bytes\n",
    "    decryted_msg = decrypt(key, aad, iv, ciphertext, attacking_tag) # decrypt function will raise a InvalidTag EXCEPTION as the tags do not match\n",
    "    print(\"InvalidTag! The MAC tags of encryption and decryption donot match\")    \n",
    "    print(\"AES in GCM mode of plaintext: {}\".format(plaintext_str))\n",
    "    print(\"Authenticated Associated data: {}\".format(aad_str))\n",
    "    print(\"Initialization Vector: {}\".format(iv.hex()))\n",
    "    print(\"MAC tag: {}\".format(tag.hex()))\n",
    "    print(\"Ciphertext: {}\".format(ciphertext.hex())) \n",
    "    print(\"Decrypted message: {}\".format(decryted_msg.decode('utf-8')))"
   ]
  },
  {
   "cell_type": "markdown",
   "metadata": {},
   "source": [
    "## Performance Evaluation of AES in GCM mode "
   ]
  },
  {
   "cell_type": "code",
   "execution_count": 8,
   "metadata": {},
   "outputs": [
    {
     "name": "stdout",
     "output_type": "stream",
     "text": [
      "AES in GCM mode of 64MB 0x0\n",
      "Elapsed time for encryption of 64MB 0x0: 0.1556 sec\n",
      "Performance of Encryption is: 411.2501 MB/s\n",
      "Elapsed time for decryption of 64MB 0x0: 0.1518 sec\n",
      "Performance of Decryption is: 421.7188 MB/s\n"
     ]
    }
   ],
   "source": [
    "import os\n",
    "from cryptography.hazmat.backends import default_backend\n",
    "from cryptography.hazmat.primitives.ciphers import (\n",
    "    Cipher, algorithms, modes\n",
    ")\n",
    "import time\n",
    "def encrypt(key, pt, aad):\n",
    "    '''AES in GCM Mode encrytion function\n",
    "        parameters:\n",
    "            key: 128 bit random key\n",
    "            pt: plaintext for encryption \n",
    "                type: bytes \n",
    "            aad: authenticated associated data\n",
    "                type: bytes '''\n",
    "    iv = os.urandom(12) # 96 bit initialization vector\n",
    "\n",
    "    encryptor = Cipher(\n",
    "        algorithms.AES(key), # using AES block cipher\n",
    "        modes.GCM(iv), # in GCM mode\n",
    "        backend=default_backend()\n",
    "    ).encryptor() # creating a AESGCM cipher object \n",
    "\n",
    "    encryptor.authenticate_additional_data(aad) # authenticated associate data will be authenticated but not encrypted\n",
    "    ct = encryptor.update(pt) + encryptor.finalize() # getting cipher text after encryption\n",
    "\n",
    "    return (iv, ct, encryptor.tag) \n",
    "\n",
    "def decrypt(key, aad, iv, ct, tag):\n",
    "    '''AES in GCM Mode decrytion function\n",
    "        parameters:\n",
    "            key: 128 bit random key\n",
    "            aad: authenticated associated data\n",
    "                type: bytes \n",
    "            iv: 96 bit initialization vector \n",
    "            ct: ciphertext for decryption \n",
    "                type: bytes'''\n",
    "    decryptor = Cipher(\n",
    "        algorithms.AES(key),\n",
    "        modes.GCM(iv, tag),\n",
    "        backend=default_backend()\n",
    "    ).decryptor()\n",
    "\n",
    "    # Put aad back in or the tag will fail to verify \n",
    "    decryptor.authenticate_additional_data(aad)\n",
    "\n",
    "    # decryptor provides the authenticated plaintext. \n",
    "    # if the tag does not match an InvalidTag exception will be raised \n",
    "    return decryptor.update(ct) + decryptor.finalize()\n",
    "\n",
    "if __name__ == \"__main__\":\n",
    "    plaintext = bytes(64*1000*1000)\n",
    "    aad = b\"Data that is authenticated but not encrypted\" # authenticated associated data\n",
    "    aad_str = aad.decode(\"utf-8\")\n",
    "    encrypt_start = time.time()\n",
    "    for i in  range(0, 10): # doing 10 iterations of encryption\n",
    "        key = os.urandom(32) # 128 bit key generation for AES \n",
    "        iv, ciphertext, tag = encrypt(key, plaintext, aad)\n",
    "        # the initialization vector, cipher text and MAC tag \n",
    "        # is returned after encryption\n",
    "    encrypt_end = time.time()\n",
    "    encrypt_elapsed_time = encrypt_end - encrypt_start\n",
    "    avg_encrypt_elapsed_time = encrypt_elapsed_time/10\n",
    "    encrypt_perf = 64/avg_encrypt_elapsed_time\n",
    "    decrypt_start = time.time()\n",
    "    for i in range(0, 10): # doing 10 iterations of decryption\n",
    "        decryted_msg = decrypt(key, aad, iv, ciphertext, tag)\n",
    "    decrypt_end = time.time()\n",
    "    decrypt_elapsed_time = decrypt_end - decrypt_start\n",
    "    avg_decrypt_elapsed_time = decrypt_elapsed_time/10\n",
    "    decrypt_perf = 64/avg_decrypt_elapsed_time\n",
    "    print(\"AES in GCM mode of 64MB 0x0\")\n",
    "    print(\"Elapsed time for encryption of 64MB 0x0: {} sec\".format(round(avg_encrypt_elapsed_time, 4)))\n",
    "    print(\"Performance of Encryption is: {} MB/s\".format(round(encrypt_perf, 4)))\n",
    "    print(\"Elapsed time for decryption of 64MB 0x0: {} sec\".format(round(avg_decrypt_elapsed_time, 4)))\n",
    "    print(\"Performance of Decryption is: {} MB/s\".format(round(decrypt_perf, 4)))\n",
    "   \n",
    "  "
   ]
  },
  {
   "cell_type": "code",
   "execution_count": null,
   "metadata": {},
   "outputs": [],
   "source": []
  }
 ],
 "metadata": {
  "kernelspec": {
   "display_name": "Python 3",
   "language": "python",
   "name": "python3"
  },
  "language_info": {
   "codemirror_mode": {
    "name": "ipython",
    "version": 3
   },
   "file_extension": ".py",
   "mimetype": "text/x-python",
   "name": "python",
   "nbconvert_exporter": "python",
   "pygments_lexer": "ipython3",
   "version": "3.7.4"
  }
 },
 "nbformat": 4,
 "nbformat_minor": 2
}
